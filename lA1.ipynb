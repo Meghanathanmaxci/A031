{
 "cells": [
  {
   "cell_type": "markdown",
   "id": "e5b0fb26",
   "metadata": {},
   "source": [
    "# WPP function to sum all the numbers in a list.\n",
    "# Sample list : (8,2,3,0,7)\n",
    "# expected output :20\n"
   ]
  },
  {
   "cell_type": "code",
   "execution_count": 4,
   "id": "741058ae",
   "metadata": {},
   "outputs": [],
   "source": [
    "def list(*m):\n",
    "    sum = 0\n",
    "    for i in m:\n",
    "        \n",
    "        sum = sum+i\n",
    "    \n",
    "    print(sum)"
   ]
  },
  {
   "cell_type": "code",
   "execution_count": 5,
   "id": "7f1ba7e8",
   "metadata": {},
   "outputs": [
    {
     "name": "stdout",
     "output_type": "stream",
     "text": [
      "20\n"
     ]
    }
   ],
   "source": [
    "list(8,2,3,0,7)"
   ]
  },
  {
   "cell_type": "code",
   "execution_count": null,
   "id": "62d31a35",
   "metadata": {},
   "outputs": [],
   "source": []
  }
 ],
 "metadata": {
  "kernelspec": {
   "display_name": "Python 3 (ipykernel)",
   "language": "python",
   "name": "python3"
  },
  "language_info": {
   "codemirror_mode": {
    "name": "ipython",
    "version": 3
   },
   "file_extension": ".py",
   "mimetype": "text/x-python",
   "name": "python",
   "nbconvert_exporter": "python",
   "pygments_lexer": "ipython3",
   "version": "3.10.0"
  }
 },
 "nbformat": 4,
 "nbformat_minor": 5
}
